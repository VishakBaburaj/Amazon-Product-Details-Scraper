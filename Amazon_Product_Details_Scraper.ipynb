{
 "cells": [
  {
   "cell_type": "markdown",
   "metadata": {},
   "source": [
    "# AMAZON PRODUCT DETAILS SCRAPER"
   ]
  },
  {
   "cell_type": "markdown",
   "metadata": {},
   "source": [
    "### Scraping Amazon Product names, Prices, Links"
   ]
  },
  {
   "cell_type": "code",
   "execution_count": null,
   "metadata": {},
   "outputs": [],
   "source": [
    "#imported the required libraries\n",
    "from selenium import webdriver\n",
    "import pandas as pd\n",
    "\n",
    "driver = webdriver.Chrome('#') #connecting to the chromedriver app required for scraping\n",
    "driver.get('#') #url for scraping \n",
    "\n",
    "listing = {} \n",
    "price = {}  \n",
    "link = {}\n",
    "\n",
    "listing_web_elm= driver.find_elements_by_xpath(\"//*[@class = 's-main-slot s-result-list s-search-results sg-row']//*[@class='a-link-normal a-text-normal']\") \n",
    "\n",
    "price_web_elm = driver.find_elements_by_xpath(\"//*[@class = 's-main-slot s-result-list s-search-results sg-row']//*[@class='a-size-base a-link-normal a-text-normal']\") \n",
    "\n",
    "for j in listing_web_elm: \n",
    "    item_name=j.text\n",
    "    item_href=j.get_attribute('href') \n",
    "    listing[item_href]=item_name\n",
    " \n",
    "    \n",
    "for k in price_web_elm: \n",
    "    item_name=k.text\n",
    "    item_href=k.get_attribute('href')\n",
    "    item_name=item_name.split(' ')[0][1:] \n",
    "    price[item_href]=item_name \n",
    "    \n",
    "\n",
    "    \n",
    "pairs=[] \n",
    "\n",
    "\n",
    "for key in price:\n",
    "    if key in listing:\n",
    "        pairs.append([listing[key],price[key],key]) \n",
    "    \n",
    "    \n",
    "    \n",
    "amazon = pd.DataFrame(pairs, columns=[\"Item\",\"Price\",\"Link\"]) \n",
    "\n",
    "amazon.to_csv(r'#', mode='a', index = False, header=None)"
   ]
  },
  {
   "cell_type": "markdown",
   "metadata": {},
   "source": [
    "### Scraping Product Ratings and Reviews"
   ]
  },
  {
   "cell_type": "code",
   "execution_count": null,
   "metadata": {},
   "outputs": [],
   "source": [
    "#imported the required libraries\n",
    "from tqdm import tqdm\n",
    "\n",
    "\n",
    "def revpage(href):\n",
    "    driver = webdriver.Chrome('C:/Users/visha/OneDrive/Desktop/python/chromedriver_win32/chromedriver.exe')\n",
    "    href = href.replace(\"/dp/\",\"/product-reviews/\")\n",
    "    href = href.replace(\"%2Fdp%\",\"%2Fproduct-reviews%\")\n",
    "    driver.get(href)\n",
    "    comment = []\n",
    "    comments = driver.find_elements_by_xpath(\"//*[@class = 'a-fixed-right-grid-col a-col-left']//*[@class='a-row a-spacing-small review-data']\")\n",
    "\n",
    "    for m in comments: \n",
    "        comment.append(m.text)\n",
    "    driver.close()\n",
    "    if comment == []:\n",
    "        return \"\"\n",
    "    return(comment)\n",
    "\n",
    "def revrate(href):\n",
    "    driver = webdriver.Chrome('C:/Users/visha/OneDrive/Desktop/python/chromedriver_win32/chromedriver.exe')\n",
    "    href = href.replace(\"/dp/\",\"/product-reviews/\")\n",
    "    href = href.replace(\"%2Fdp%\",\"%2Fproduct-reviews%\")\n",
    "    driver.get(href)\n",
    "    rating = []\n",
    "    ratings = driver.find_elements_by_xpath(\"//*[@class = 'a-fixed-right-grid-col a-col-left']//*[@class='a-size-medium a-color-base']\")\n",
    "\n",
    "    for n in ratings: \n",
    "        rating.append(n.text)\n",
    "    driver.close()\n",
    "    if rating == []:\n",
    "        return \"\"\n",
    "    return(rating)\n",
    "   \n",
    "amproduct = pd.read_csv('#')\n",
    "\n",
    "amratings = []\n",
    "amcomments = []\n",
    "for url in tqdm(amproduct['Link']):\n",
    "        amcomments.append(revpage(url))\n",
    "        amratings.append(revrate(url))\n",
    "\n"
   ]
  },
  {
   "cell_type": "markdown",
   "metadata": {},
   "source": [
    "### Exporting the data scraped"
   ]
  },
  {
   "cell_type": "code",
   "execution_count": null,
   "metadata": {},
   "outputs": [],
   "source": [
    "df = pd.read_csv(r'#')\n",
    "len(df)"
   ]
  },
  {
   "cell_type": "code",
   "execution_count": null,
   "metadata": {},
   "outputs": [],
   "source": [
    "df['Rating'] = amratings\n",
    "df['Comments'] = amcomments\n",
    "df"
   ]
  },
  {
   "cell_type": "code",
   "execution_count": null,
   "metadata": {},
   "outputs": [],
   "source": [
    "df.to_excel('#')"
   ]
  }
 ],
 "metadata": {
  "kernelspec": {
   "display_name": "Python 3",
   "language": "python",
   "name": "python3"
  },
  "language_info": {
   "codemirror_mode": {
    "name": "ipython",
    "version": 3
   },
   "file_extension": ".py",
   "mimetype": "text/x-python",
   "name": "python",
   "nbconvert_exporter": "python",
   "pygments_lexer": "ipython3",
   "version": "3.8.5"
  }
 },
 "nbformat": 4,
 "nbformat_minor": 4
}
